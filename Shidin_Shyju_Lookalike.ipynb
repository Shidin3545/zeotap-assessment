{
  "cells": [
    {
      "cell_type": "markdown",
      "source": [
        "Lookalike Model"
      ],
      "metadata": {
        "id": "ytoxZwm1ERPy"
      }
    },
    {
      "cell_type": "code",
      "source": [
        "\n",
        "#Feature engineering\n",
        "customer_features = customers.copy()\n",
        "customer_features['Tenure'] = (pd.Timestamp.today() - customer_features['SignupDate']).dt.days\n",
        "customer_features = pd.get_dummies(customer_features, columns=['Region'])\n",
        "\n",
        "# Transaction features\n",
        "txn_agg = transactions.groupby('CustomerID').agg({\n",
        "    'TotalValue': ['sum', 'mean'],\n",
        "    'TransactionID': 'count'\n",
        "}).reset_index()\n",
        "txn_agg.columns = ['CustomerID', 'TotalSpend', 'AvgOrderValue', 'PurchaseFrequency']\n",
        "\n",
        "\n",
        "customer_features = customer_features.merge(txn_agg, on='CustomerID', how='left')\n",
        "\n",
        "\n",
        "from sklearn.preprocessing import StandardScaler\n",
        "from sklearn.metrics.pairwise import cosine_similarity\n",
        "\n",
        "features = customer_features.drop(['CustomerID', 'CustomerName', 'SignupDate'], axis=1)\n",
        "scaler = StandardScaler()\n",
        "scaled_features = scaler.fit_transform(features.fillna(0))\n",
        "\n",
        "similarity_matrix = cosine_similarity(scaled_features)\n",
        "\n",
        "#Generate recommendations\n",
        "lookalikes = {}\n",
        "target_customers = [f\"C{str(i).zfill(4)}\" for i in range(1, 21)]\n",
        "\n",
        "for cust_id in target_customers:\n",
        "    idx = customer_features[customer_features['CustomerID'] == cust_id].index[0]\n",
        "    scores = list(enumerate(similarity_matrix[idx]))\n",
        "    sorted_scores = sorted(scores, key=lambda x: x[1], reverse=True)[1:4]  # Exclude self\n",
        "    lookalikes[cust_id] = [\n",
        "        (customer_features.iloc[i]['CustomerID'], round(score, 2))\n",
        "        for i, score in sorted_scores\n",
        "    ]\n",
        "\n",
        "\n",
        "pd.DataFrame.from_dict(lookalikes, orient='index').to_csv('Lookalike.csv', header=False)"
      ],
      "metadata": {
        "id": "yWM1PMHv0lC9"
      },
      "execution_count": 24,
      "outputs": []
    },
    {
      "cell_type": "code",
      "source": [
        " # Customer Segmentation\n",
        "\n",
        "\n",
        "from sklearn.cluster import KMeans\n",
        "from sklearn.metrics import davies_bouldin_score, silhouette_score\n",
        "from sklearn.decomposition import PCA\n",
        "\n",
        "\n",
        "X = scaled_features\n",
        "\n",
        "#  Determine optimal clusters\n",
        "wcss = []\n",
        "db_scores = []\n",
        "sil_scores = []\n",
        "for k in range(2, 11):\n",
        "    kmeans = KMeans(n_clusters=k, random_state=42)\n",
        "    labels = kmeans.fit_predict(X)\n",
        "    wcss.append(kmeans.inertia_)\n",
        "    db_scores.append(davies_bouldin_score(X, labels))\n",
        "    sil_scores.append(silhouette_score(X, labels))\n",
        "\n",
        "\n",
        "plt.plot(range(2,11), wcss, marker='o')\n",
        "plt.title('Elbow Method')\n",
        "plt.xlabel('Number of clusters')\n",
        "plt.ylabel('WCSS')\n",
        "plt.savefig('elbow_plot.png')\n",
        "plt.close()\n",
        "\n",
        "# using k=5\n",
        "kmeans = KMeans(n_clusters=5, random_state=42)\n",
        "clusters = kmeans.fit_predict(X)\n",
        "\n",
        "\n",
        "db_index = davies_bouldin_score(X, clusters)\n",
        "sil_score = silhouette_score(X, clusters)\n",
        "\n",
        "# Visualize clusters\n",
        "pca = PCA(n_components=2)\n",
        "principal_components = pca.fit_transform(X)\n",
        "plt.scatter(principal_components[:,0], principal_components[:,1], c=clusters)\n",
        "plt.title('Customer Segmentation')\n",
        "plt.savefig('clusters.png')\n",
        "plt.close()\n",
        "\n",
        "print(f\"DB Index: {db_index:.2f}\")\n",
        "print(f\"Silhouette Score: {sil_score:.2f}\")"
      ],
      "metadata": {
        "id": "6BkRmAgT1bpv",
        "outputId": "03e6106c-65f7-4ba9-9eec-556efe90bc9b",
        "colab": {
          "base_uri": "https://localhost:8080/"
        }
      },
      "execution_count": 15,
      "outputs": [
        {
          "output_type": "stream",
          "name": "stdout",
          "text": [
            "DB Index: 1.15\n",
            "Silhouette Score: 0.34\n"
          ]
        }
      ]
    }
  ],
  "metadata": {
    "colab": {
      "name": "Welcome To Colab",
      "provenance": []
    },
    "kernelspec": {
      "display_name": "Python 3",
      "name": "python3"
    }
  },
  "nbformat": 4,
  "nbformat_minor": 0
}