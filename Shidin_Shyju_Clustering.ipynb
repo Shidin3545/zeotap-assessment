{
  "cells": [
    {
      "cell_type": "markdown",
      "source": [
        "Customer Segmentation/clustering"
      ],
      "metadata": {
        "id": "9mwWDhGH6S4z"
      }
    },
    {
      "cell_type": "code",
      "source": [
        "import pandas as pd\n",
        "import numpy as np\n",
        "import matplotlib.pyplot as plt\n",
        "import seaborn as sns\n",
        "from datetime import datetime\n",
        "from sklearn.cluster import KMeans\n",
        "from sklearn.metrics import davies_bouldin_score, silhouette_score\n",
        "from sklearn.decomposition import PCA\n",
        "\n",
        "\n",
        "X = scaled_features\n",
        "\n",
        "# optimal clusters\n",
        "wcss = []\n",
        "db_scores = []\n",
        "sil_scores = []\n",
        "for k in range(2, 11):\n",
        "    kmeans = KMeans(n_clusters=k, random_state=42)\n",
        "    labels = kmeans.fit_predict(X)\n",
        "    wcss.append(kmeans.inertia_)\n",
        "    db_scores.append(davies_bouldin_score(X, labels))\n",
        "    sil_scores.append(silhouette_score(X, labels))\n",
        "\n",
        "#Visualize elbow method\n",
        "plt.plot(range(2,11), wcss, marker='o')\n",
        "plt.title('Elbow Method')\n",
        "plt.xlabel('Number of clusters')\n",
        "plt.ylabel('WCSS')\n",
        "plt.savefig('elbow_plot.png')\n",
        "plt.close()\n",
        "\n",
        "# Step 4: Final clustering (using k=5)\n",
        "kmeans = KMeans(n_clusters=5, random_state=42)\n",
        "clusters = kmeans.fit_predict(X)\n",
        "\n",
        "# Step 5: Evaluate\n",
        "db_index = davies_bouldin_score(X, clusters)\n",
        "sil_score = silhouette_score(X, clusters)\n",
        "\n",
        "# Step 6: Visualize clusters\n",
        "pca = PCA(n_components=2)\n",
        "principal_components = pca.fit_transform(X)\n",
        "plt.scatter(principal_components[:,0], principal_components[:,1], c=clusters)\n",
        "plt.title('Customer Segmentation')\n",
        "plt.savefig('clusters.png')\n",
        "plt.close()\n",
        "\n",
        "print(f\"DB Index: {db_index:.2f}\")\n",
        "print(f\"Silhouette Score: {sil_score:.2f}\")"
      ],
      "metadata": {
        "id": "BtlWUyNLLtSi",
        "outputId": "22dd376e-dbab-4be6-86da-cd1f8a36ab1e",
        "colab": {
          "base_uri": "https://localhost:8080/"
        }
      },
      "execution_count": 29,
      "outputs": [
        {
          "output_type": "stream",
          "name": "stdout",
          "text": [
            "DB Index: 1.15\n",
            "Silhouette Score: 0.34\n"
          ]
        }
      ]
    }
  ],
  "metadata": {
    "colab": {
      "name": "Welcome To Colab",
      "provenance": []
    },
    "kernelspec": {
      "display_name": "Python 3",
      "name": "python3"
    }
  },
  "nbformat": 4,
  "nbformat_minor": 0
}